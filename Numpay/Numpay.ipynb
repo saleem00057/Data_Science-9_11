{
 "cells": [
  {
   "cell_type": "markdown",
   "id": "816d8f1f-3014-448e-9df7-62325ac365cd",
   "metadata": {},
   "source": [
    "## Numpy"
   ]
  },
  {
   "cell_type": "markdown",
   "id": "85a5b083-3c72-43a3-a5d2-5664b9280cf3",
   "metadata": {},
   "source": [
    "NumPy (Numerical Python) is a powerful Python library used for:\n",
    "\n",
    "* Working with arrays (like lists but faster and more efficient).\n",
    "* Performing mathematical operations on large datasets.\n"
   ]
  },
  {
   "cell_type": "markdown",
   "id": "45acebeb-5cf8-4bcd-b846-b45d1882f1e9",
   "metadata": {},
   "source": [
    "### Why NumPy?\n",
    "- It's faster than Python lists.\n",
    "- It's widely used in data science and machine learning.\n",
    "- It makes working with data easier (especially arrays, matrices, and numerical computations)."
   ]
  },
  {
   "cell_type": "code",
   "execution_count": 1,
   "id": "bda0176d-68a1-48b6-863a-dfaeff9e43c4",
   "metadata": {},
   "outputs": [
    {
     "name": "stdout",
     "output_type": "stream",
     "text": [
      "Requirement already satisfied: Numpy in e:\\anaconda\\lib\\site-packages (1.26.4)\n",
      "Note: you may need to restart the kernel to use updated packages.\n"
     ]
    }
   ],
   "source": [
    "pip install Numpy"
   ]
  },
  {
   "cell_type": "code",
   "execution_count": 2,
   "id": "db25aabc-863f-448d-b813-871b7e141cf3",
   "metadata": {},
   "outputs": [],
   "source": [
    "import numpy as np"
   ]
  },
  {
   "cell_type": "markdown",
   "id": "45310fe7-cf44-4566-92f7-87e795c10e79",
   "metadata": {},
   "source": [
    "## Basics of NumPy\n",
    "1. Creating Arrays in NumPy are like lists, but more powerful."
   ]
  },
  {
   "cell_type": "markdown",
   "id": "b6ba5659-8241-410c-9087-0248ffc108dd",
   "metadata": {},
   "source": [
    "### 1D Array (Vector):"
   ]
  },
  {
   "cell_type": "code",
   "execution_count": 3,
   "id": "a74f8942-e9b0-4827-b07d-f28f0424e747",
   "metadata": {},
   "outputs": [
    {
     "name": "stdout",
     "output_type": "stream",
     "text": [
      "[1 2 3 4 5]\n"
     ]
    }
   ],
   "source": [
    "arr = np.array([1, 2, 3, 4, 5])\n",
    "print(arr)\n"
   ]
  },
  {
   "cell_type": "code",
   "execution_count": 4,
   "id": "17beb741-f8e6-45b1-9348-d83d5a02dd06",
   "metadata": {},
   "outputs": [
    {
     "name": "stdout",
     "output_type": "stream",
     "text": [
      "[1 2 3 4 5 6]\n",
      "[1. 2. 3. 4. 5. 6.]\n",
      "['1' '2' '3' '4' '5' '6']\n",
      "<class 'numpy.ndarray'>\n"
     ]
    }
   ],
   "source": [
    "list = [1,2,3,4,5,6]\n",
    "arry = np.array(list) # output in int value\n",
    "arry1 = np.array(list,dtype=float) # output in float value\n",
    "arry2 = np.array(list,dtype='U32') # output in string value\n",
    "print(arry)\n",
    "print(arry1)\n",
    "print(arry2)\n",
    "print(type(arry))"
   ]
  },
  {
   "cell_type": "markdown",
   "id": "f95f120b-d9ce-4869-b21a-5e19faf309b1",
   "metadata": {},
   "source": [
    "### 2D Array (Matrix):"
   ]
  },
  {
   "cell_type": "code",
   "execution_count": 5,
   "id": "7b270f81-edbd-4314-b287-12c057757444",
   "metadata": {},
   "outputs": [
    {
     "name": "stdout",
     "output_type": "stream",
     "text": [
      "[[1 2 3]\n",
      " [4 5 6]]\n"
     ]
    }
   ],
   "source": [
    "arr_2d = np.array([[1, 2, 3], [4, 5, 6]])\n",
    "print(arr_2d)\n"
   ]
  },
  {
   "cell_type": "markdown",
   "id": "10670bcf-009e-48d0-af2e-bbb5b5211307",
   "metadata": {},
   "source": [
    "### 3D array in NumPy \n",
    "* is like a collection of 2D arrays stacked together. Think of it as a cube of numbers. It has three dimensions: depth, rows, and columns."
   ]
  },
  {
   "cell_type": "code",
   "execution_count": 6,
   "id": "f72f64bd-04f6-43da-84cc-f557acd97cf1",
   "metadata": {},
   "outputs": [
    {
     "name": "stdout",
     "output_type": "stream",
     "text": [
      "[[[ 1  2  3]\n",
      "  [ 4  5  6]]\n",
      "\n",
      " [[ 7  8  9]\n",
      "  [10 11 12]]]\n"
     ]
    }
   ],
   "source": [
    "import numpy as np\n",
    "\n",
    "# Create a 3D array\n",
    "arr_3d = np.array([[[1, 2, 3], [4, 5, 6]],  # First 2D array\n",
    "                   [[7, 8, 9], [10, 11, 12]]])  # Second 2D array\n",
    "\n",
    "print(arr_3d)\n"
   ]
  },
  {
   "cell_type": "markdown",
   "id": "a5a78a02-8b10-4af8-8917-b4b8a347cbd8",
   "metadata": {},
   "source": [
    "### Array Properties\n"
   ]
  },
  {
   "cell_type": "code",
   "execution_count": 7,
   "id": "9de7c889-b3da-4975-83b0-be92e69b17c5",
   "metadata": {},
   "outputs": [
    {
     "name": "stdout",
     "output_type": "stream",
     "text": [
      "Shape: (2, 3)\n",
      "Size: 6\n",
      "Data type: int32\n"
     ]
    }
   ],
   "source": [
    "print(\"Shape:\", arr_2d.shape)  # Rows and columns\n",
    "print(\"Size:\", arr_2d.size)    # Total elements\n",
    "print(\"Data type:\", arr_2d.dtype)  # Type of data\n"
   ]
  },
  {
   "cell_type": "markdown",
   "id": "20c1e299-9f9b-4e6d-8da4-2ea200827cfa",
   "metadata": {},
   "source": [
    "### Array Operations\n",
    "* Add, subtract, multiply, and divide arrays easily:"
   ]
  },
  {
   "cell_type": "code",
   "execution_count": 8,
   "id": "58fbc63a-d252-4f00-bc1b-c4a7307d9e9c",
   "metadata": {},
   "outputs": [
    {
     "name": "stdout",
     "output_type": "stream",
     "text": [
      "Addition: [5 7 9]\n",
      "Subtraction: [-3 -3 -3]\n",
      "Multiplication: [ 4 10 18]\n",
      "Division: [4.  2.5 2. ]\n"
     ]
    }
   ],
   "source": [
    "a = np.array([1, 2, 3])\n",
    "b = np.array([4, 5, 6])\n",
    "\n",
    "print(\"Addition:\", a + b)    \n",
    "print(\"Subtraction:\", a - b) \n",
    "print(\"Multiplication:\", a * b) \n",
    "print(\"Division:\", b / a)   \n"
   ]
  },
  {
   "cell_type": "markdown",
   "id": "9cf52707-f06e-45d7-b5a6-3075e9eb27df",
   "metadata": {},
   "source": [
    "### Mathematical Operations\n",
    "How to find the sum, mean, or maximum?\n"
   ]
  },
  {
   "cell_type": "code",
   "execution_count": 9,
   "id": "77995b8a-7adb-46ad-b979-d3adf69021c9",
   "metadata": {},
   "outputs": [
    {
     "name": "stdout",
     "output_type": "stream",
     "text": [
      "Sum of a: 6\n",
      "Mean of a: 2.0\n",
      "Max of a: 3\n",
      "Min of a: 1\n",
      "Sum of b: 15\n",
      "Mean of b: 5.0\n",
      "Max of b: 6\n",
      "Min of b: 4\n"
     ]
    }
   ],
   "source": [
    "import numpy as np\n",
    "\n",
    "a = np.array([1, 2, 3])\n",
    "b = np.array([4, 5, 6])\n",
    "\n",
    "print(\"Sum of a:\", np.sum(a))\n",
    "print(\"Mean of a:\", np.mean(a))\n",
    "print(\"Max of a:\", np.max(a))\n",
    "print(\"Min of a:\", np.min(a))\n",
    "\n",
    "print(\"Sum of b:\", np.sum(b))\n",
    "print(\"Mean of b:\", np.mean(b))\n",
    "print(\"Max of b:\", np.max(b))\n",
    "print(\"Min of b:\", np.min(b))\n",
    "\n"
   ]
  },
  {
   "cell_type": "markdown",
   "id": "5feb076c-5835-462c-8815-4a045b2fb3ff",
   "metadata": {},
   "source": [
    "## Indexing and Slicing\n",
    "Just like lists, you can access specific elements:"
   ]
  },
  {
   "cell_type": "code",
   "execution_count": 10,
   "id": "8567f4d4-b786-4af1-bf72-ed8e819c0486",
   "metadata": {},
   "outputs": [
    {
     "name": "stdout",
     "output_type": "stream",
     "text": [
      "10\n",
      "50\n",
      "[20 30 40]\n"
     ]
    }
   ],
   "source": [
    "arr = np.array([10, 20, 30, 40, 50])\n",
    "\n",
    "print(arr[0]) \n",
    "print(arr[-1]) \n",
    "print(arr[1:4]) \n"
   ]
  },
  {
   "cell_type": "code",
   "execution_count": 11,
   "id": "731f1431-5843-48bf-aeef-4f01b67c4b74",
   "metadata": {},
   "outputs": [
    {
     "name": "stdout",
     "output_type": "stream",
     "text": [
      "2\n",
      "[2 5]\n"
     ]
    }
   ],
   "source": [
    "arr_2d = np.array([[1, 2, 3], [4, 5, 6]])\n",
    "\n",
    "print(arr_2d[0, 1])  # Element at row 0, column 1: 2\n",
    "print(arr_2d[:, 1])  # All rows, column 1: [2 5]\n"
   ]
  },
  {
   "cell_type": "markdown",
   "id": "d34ae02e-a59d-44c6-9780-123290aae35c",
   "metadata": {},
   "source": [
    "### Attribuites of Numpy array\n",
    "- NumPy arrays have several attributes that provide information about their structure, type, and memory usage."
   ]
  },
  {
   "cell_type": "code",
   "execution_count": 12,
   "id": "abdbb728-68e2-4481-aaf4-e3e50b13de6a",
   "metadata": {},
   "outputs": [
    {
     "name": "stdout",
     "output_type": "stream",
     "text": [
      "Number of Dimensions: 2\n",
      "Shape: (2, 3)\n",
      "Size: 6\n",
      "Data Type: int32\n",
      "Item Size: 4\n",
      "Total Memory (Bytes): 24\n",
      "Transpose:\n",
      " [[1 4]\n",
      " [2 5]\n",
      " [3 6]]\n"
     ]
    }
   ],
   "source": [
    "import numpy as np\n",
    "\n",
    "arr = np.array([[1, 2, 3], [4, 5, 6]])\n",
    "print(\"Number of Dimensions:\", arr.ndim)\n",
    "print(\"Shape:\", arr.shape)\n",
    "print(\"Size:\", arr.size)\n",
    "print(\"Data Type:\", arr.dtype)\n",
    "print(\"Item Size:\", arr.itemsize)\n",
    "print(\"Total Memory (Bytes):\", arr.nbytes)\n",
    "print(\"Transpose:\\n\", arr.T)"
   ]
  },
  {
   "cell_type": "markdown",
   "id": "13e70fb7-4a17-4181-8aa0-5abb900575b8",
   "metadata": {},
   "source": [
    "## Useful functions in numpy \n",
    "- NumPy provides a wide variety of functions for arrays that allow you to manipulate, analyze, and process data efficiently. These functions fall into categories like creation, mathematics, statistics, reshaping, and logical operations"
   ]
  },
  {
   "cell_type": "markdown",
   "id": "9d7e7c54-2a84-4f33-b9fc-2c89f825b017",
   "metadata": {},
   "source": [
    "### np.array(): Creates an array from a list or tuple."
   ]
  },
  {
   "cell_type": "code",
   "execution_count": 13,
   "id": "a3562cc7-1513-436f-b08b-04562475593c",
   "metadata": {},
   "outputs": [
    {
     "name": "stdout",
     "output_type": "stream",
     "text": [
      "[1 2 3]\n"
     ]
    }
   ],
   "source": [
    "arr = np.array([1, 2, 3])\n",
    "print(arr)"
   ]
  },
  {
   "cell_type": "markdown",
   "id": "c10dc43c-6ccf-4538-8c61-b3b5f0c3e5d8",
   "metadata": {},
   "source": [
    "### np.zeros(): Creates an array filled with zeros."
   ]
  },
  {
   "cell_type": "code",
   "execution_count": 14,
   "id": "08bfc250-3af7-4a98-968d-029f2598e7b4",
   "metadata": {},
   "outputs": [
    {
     "name": "stdout",
     "output_type": "stream",
     "text": [
      "[[0. 0. 0.]\n",
      " [0. 0. 0.]]\n"
     ]
    }
   ],
   "source": [
    "zeros = np.zeros((2, 3))\n",
    "print(zeros)"
   ]
  },
  {
   "cell_type": "markdown",
   "id": "35b4fe6d-720c-47f5-9110-1340e7601c57",
   "metadata": {},
   "source": [
    "### np.ones(): Creates an array filled with ones."
   ]
  },
  {
   "cell_type": "code",
   "execution_count": 15,
   "id": "b47761de-4ba4-4d64-8f6b-47ebe2d7a179",
   "metadata": {},
   "outputs": [
    {
     "name": "stdout",
     "output_type": "stream",
     "text": [
      "[[1. 1.]\n",
      " [1. 1.]\n",
      " [1. 1.]]\n"
     ]
    }
   ],
   "source": [
    "ones = np.ones((3, 2))\n",
    "print(ones)\n"
   ]
  },
  {
   "cell_type": "markdown",
   "id": "5e2ddfe9-48cb-4125-8349-7c943f660564",
   "metadata": {},
   "source": [
    "### np.eye(): Creates an identity matrix."
   ]
  },
  {
   "cell_type": "code",
   "execution_count": 16,
   "id": "75f1157d-8ebb-4562-b7d7-f9f591df35be",
   "metadata": {},
   "outputs": [
    {
     "name": "stdout",
     "output_type": "stream",
     "text": [
      "[[1. 0. 0.]\n",
      " [0. 1. 0.]\n",
      " [0. 0. 1.]]\n"
     ]
    }
   ],
   "source": [
    "identity = np.eye(3)\n",
    "print(identity)\n"
   ]
  },
  {
   "cell_type": "markdown",
   "id": "5649d165-2e34-4e2f-9253-9df113ca0930",
   "metadata": {},
   "source": [
    "### np.arange(): Creates an array with evenly spaced values."
   ]
  },
  {
   "cell_type": "code",
   "execution_count": 17,
   "id": "2c2c6da6-b186-4449-8d20-af0dc887ed67",
   "metadata": {},
   "outputs": [
    {
     "name": "stdout",
     "output_type": "stream",
     "text": [
      "[1 3 5 7 9]\n"
     ]
    }
   ],
   "source": [
    "arr = np.arange(1, 10, 2) #start 1 ,stop 10,step 2\n",
    "print(arr)\n"
   ]
  },
  {
   "cell_type": "markdown",
   "id": "8dc5c353-7f6c-42e3-8a9c-d9c12f1a1ebc",
   "metadata": {},
   "source": [
    "### np.linspace(): Creates an array with a specific number of evenly spaced values."
   ]
  },
  {
   "cell_type": "code",
   "execution_count": 18,
   "id": "ec58773f-f9b1-4c0a-8dbc-3131187d3943",
   "metadata": {},
   "outputs": [
    {
     "name": "stdout",
     "output_type": "stream",
     "text": [
      "[ 1.    3.25  5.5   7.75 10.  ]\n"
     ]
    }
   ],
   "source": [
    "arr = np.linspace(1, 10, 5)\n",
    "print(arr)"
   ]
  },
  {
   "cell_type": "markdown",
   "id": "10027701-3f01-4ddf-ace2-ddef27073db2",
   "metadata": {},
   "source": [
    "### np.random.random(): Creates an array with random values between 0 and 1.\n"
   ]
  },
  {
   "cell_type": "code",
   "execution_count": 19,
   "id": "2d635af4-00ca-4c36-9d22-118badb42afa",
   "metadata": {},
   "outputs": [
    {
     "name": "stdout",
     "output_type": "stream",
     "text": [
      "[[0.97663312 0.59667586]\n",
      " [0.72474252 0.38235089]]\n"
     ]
    }
   ],
   "source": [
    "rand = np.random.random((2, 2))\n",
    "print(rand)"
   ]
  },
  {
   "cell_type": "markdown",
   "id": "c8c06b2c-b63f-4ef4-9ea4-dd3999d5fab9",
   "metadata": {},
   "source": [
    "## Mathematical Functions"
   ]
  },
  {
   "cell_type": "markdown",
   "id": "645af2d9-e80a-4196-8a05-0dd744cfd8c9",
   "metadata": {},
   "source": [
    "### np.sum(): Sums all elements or along a specific axis."
   ]
  },
  {
   "cell_type": "code",
   "execution_count": 20,
   "id": "6bd0444d-f49b-4506-b0ef-b5764656f047",
   "metadata": {},
   "outputs": [
    {
     "name": "stdout",
     "output_type": "stream",
     "text": [
      "10\n",
      "[4 6]\n",
      "[3 7]\n"
     ]
    }
   ],
   "source": [
    "arr = np.array([[1, 2], [3, 4]])\n",
    "print(np.sum(arr))  # Output: 10\n",
    "print(np.sum(arr, axis=0))  # Column-wise sum: [4 6]\n",
    "print(np.sum(arr, axis=1))  # Row-wise sum: [3 7]\n"
   ]
  },
  {
   "cell_type": "markdown",
   "id": "2da54c9f-3325-461c-be3b-88f652115786",
   "metadata": {},
   "source": [
    "### np.mean(): Calculates the mean (average)."
   ]
  },
  {
   "cell_type": "code",
   "execution_count": 21,
   "id": "91d6de25-5780-4391-bf0d-9e215ad80d0d",
   "metadata": {},
   "outputs": [
    {
     "name": "stdout",
     "output_type": "stream",
     "text": [
      "2.5\n"
     ]
    }
   ],
   "source": [
    "arr = np.array([[1, 2], [3, 4]])\n",
    "print(np.mean(arr))  # Output: 2.5\n"
   ]
  },
  {
   "cell_type": "markdown",
   "id": "061dd9ee-f76f-42f3-bbc1-f9ab9e40a7d5",
   "metadata": {},
   "source": [
    "### np.max() / np.min(): Finds the maximum or minimum value."
   ]
  },
  {
   "cell_type": "code",
   "execution_count": 22,
   "id": "8e9d0cdc-aebe-4e00-8f49-2d4c94b711a4",
   "metadata": {},
   "outputs": [
    {
     "name": "stdout",
     "output_type": "stream",
     "text": [
      "40\n",
      "15\n"
     ]
    }
   ],
   "source": [
    "arr = np.array([[15, 21], [31, 40]])\n",
    "print(np.max(arr)) \n",
    "print(np.min(arr))  \n"
   ]
  },
  {
   "cell_type": "markdown",
   "id": "e4832024-e1b0-4416-99cc-a3904918e53d",
   "metadata": {},
   "source": [
    "### np.sqrt(): Calculates the square root of each element."
   ]
  },
  {
   "cell_type": "code",
   "execution_count": 23,
   "id": "870e2987-6559-4f92-9ac8-234a6c95bc27",
   "metadata": {},
   "outputs": [
    {
     "name": "stdout",
     "output_type": "stream",
     "text": [
      "[[1.         1.41421356]\n",
      " [1.73205081 2.        ]]\n"
     ]
    }
   ],
   "source": [
    "arr = np.array([[1, 2], [3, 4]])\n",
    "print(np.sqrt(arr))\n",
    "# Output:\n",
    "# [[1.         1.41421356]\n",
    "#  [1.73205081 2.        ]]\n"
   ]
  },
  {
   "cell_type": "markdown",
   "id": "8c34d68c-ff89-43ff-9139-269d312e4f99",
   "metadata": {},
   "source": [
    "### np.dot(): Performs matrix multiplication."
   ]
  },
  {
   "cell_type": "code",
   "execution_count": 24,
   "id": "4dfedfc8-ba95-43d1-a7e9-c725f796156c",
   "metadata": {},
   "outputs": [
    {
     "name": "stdout",
     "output_type": "stream",
     "text": [
      "[[19 22]\n",
      " [43 50]]\n"
     ]
    }
   ],
   "source": [
    "a = np.array([[1, 2], [3, 4]])\n",
    "b = np.array([[5, 6], [7, 8]])\n",
    "print(np.dot(a, b))"
   ]
  },
  {
   "cell_type": "markdown",
   "id": "c75ad1ba-d6ef-47d1-99e1-b5025cb1ffb9",
   "metadata": {},
   "source": [
    "## Statistical Functions"
   ]
  },
  {
   "cell_type": "markdown",
   "id": "bc2b620e-d47c-4496-955c-c0bbe2acac1d",
   "metadata": {},
   "source": [
    "### np.std(): Computes the standard deviation."
   ]
  },
  {
   "cell_type": "code",
   "execution_count": 25,
   "id": "4b58d7e0-58de-4dae-a77d-67158d64b6a6",
   "metadata": {},
   "outputs": [
    {
     "name": "stdout",
     "output_type": "stream",
     "text": [
      "1.118033988749895\n"
     ]
    }
   ],
   "source": [
    "arr = np.array([[1, 2], [3, 4]])\n",
    "print(np.std(arr)) \n"
   ]
  },
  {
   "cell_type": "markdown",
   "id": "66377227-448c-442b-99fb-1ab2840845d9",
   "metadata": {},
   "source": [
    "### np.var(): Computes the variance."
   ]
  },
  {
   "cell_type": "code",
   "execution_count": 26,
   "id": "5504edf8-7eb9-4879-86a1-c4ea3f058b06",
   "metadata": {},
   "outputs": [
    {
     "name": "stdout",
     "output_type": "stream",
     "text": [
      "1.25\n"
     ]
    }
   ],
   "source": [
    "print(np.var(arr)) \n"
   ]
  },
  {
   "cell_type": "markdown",
   "id": "8a7a9954-6b04-4def-bd31-a1a75a12db42",
   "metadata": {},
   "source": [
    "### np.median(): Finds the median."
   ]
  },
  {
   "cell_type": "code",
   "execution_count": 27,
   "id": "01a5585d-c672-46f7-a61d-1250e88a6587",
   "metadata": {},
   "outputs": [
    {
     "name": "stdout",
     "output_type": "stream",
     "text": [
      "2.5\n"
     ]
    }
   ],
   "source": [
    "print(np.median(arr)) "
   ]
  },
  {
   "cell_type": "markdown",
   "id": "9004cf58-9dbf-4eef-9d94-edf76dd3bc99",
   "metadata": {},
   "source": [
    "## Reshaping Functions"
   ]
  },
  {
   "cell_type": "markdown",
   "id": "104531f1-3c50-4252-9efc-6d7645119189",
   "metadata": {},
   "source": [
    "### np.reshape(): Changes the shape of an array."
   ]
  },
  {
   "cell_type": "code",
   "execution_count": 28,
   "id": "5034c2aa-305a-4ab4-8be7-a94e04acffbd",
   "metadata": {},
   "outputs": [
    {
     "name": "stdout",
     "output_type": "stream",
     "text": [
      "[[0 1 2]\n",
      " [3 4 5]]\n"
     ]
    }
   ],
   "source": [
    "arr = np.arange(6)\n",
    "reshaped = arr.reshape(2, 3)\n",
    "print(reshaped)"
   ]
  },
  {
   "cell_type": "markdown",
   "id": "2da3a549-c99d-4c43-b8e0-5d7e037d8347",
   "metadata": {},
   "source": [
    "### np.ravel(): Flattens a multi-dimensional array into 1D."
   ]
  },
  {
   "cell_type": "code",
   "execution_count": 29,
   "id": "878f5a4a-5847-4653-a732-952777893eff",
   "metadata": {},
   "outputs": [
    {
     "name": "stdout",
     "output_type": "stream",
     "text": [
      "[0 1 2 3 4 5]\n"
     ]
    }
   ],
   "source": [
    "print(reshaped.ravel())"
   ]
  },
  {
   "cell_type": "markdown",
   "id": "b96d863b-d2a4-4ba0-84ca-fdd2812089c0",
   "metadata": {},
   "source": [
    "### np.transpose(): Transposes rows and columns."
   ]
  },
  {
   "cell_type": "code",
   "execution_count": 30,
   "id": "6f56dccf-0f8c-4ce1-bab4-430c5412e195",
   "metadata": {},
   "outputs": [
    {
     "name": "stdout",
     "output_type": "stream",
     "text": [
      "[[0 3]\n",
      " [1 4]\n",
      " [2 5]]\n"
     ]
    }
   ],
   "source": [
    "print(np.transpose(reshaped))"
   ]
  },
  {
   "cell_type": "markdown",
   "id": "20323bba-1ea3-4b72-b4c9-f4c4f493a48d",
   "metadata": {},
   "source": [
    "## Logical Operations"
   ]
  },
  {
   "cell_type": "markdown",
   "id": "293cc557-3427-4821-9119-fddfc6ee3a84",
   "metadata": {},
   "source": [
    "### np.where(): Returns indices where a condition is true."
   ]
  },
  {
   "cell_type": "code",
   "execution_count": 31,
   "id": "5a5125a3-2028-4420-8e01-2c5a686b1538",
   "metadata": {},
   "outputs": [
    {
     "name": "stdout",
     "output_type": "stream",
     "text": [
      "(array([2, 3], dtype=int64),)\n"
     ]
    }
   ],
   "source": [
    "arr = np.array([10, 15, 20, 25])\n",
    "print(np.where(arr > 15))"
   ]
  },
  {
   "cell_type": "markdown",
   "id": "1c59fcc3-6ce7-4d2b-bf13-58855af9cea2",
   "metadata": {},
   "source": [
    "### np.all() / np.any(): Checks if all or any elements meet a condition."
   ]
  },
  {
   "cell_type": "code",
   "execution_count": 32,
   "id": "014d4dcc-3a18-4766-b906-49e79022624d",
   "metadata": {},
   "outputs": [
    {
     "name": "stdout",
     "output_type": "stream",
     "text": [
      "True\n",
      "True\n"
     ]
    }
   ],
   "source": [
    "print(np.all(arr > 5)) \n",
    "print(np.any(arr > 20))  \n"
   ]
  },
  {
   "cell_type": "markdown",
   "id": "25044e1f-935e-4a60-9dab-338ebc393364",
   "metadata": {},
   "source": [
    "## Copying and Joining Arrays\n"
   ]
  },
  {
   "cell_type": "markdown",
   "id": "41a53097-ffc7-4798-8a3e-21dc2a93f1dc",
   "metadata": {},
   "source": [
    "### np.concatenate(): Joins arrays along a specific axis."
   ]
  },
  {
   "cell_type": "code",
   "execution_count": 33,
   "id": "763b36ab-5584-4d9c-a843-9bafc085ab2a",
   "metadata": {},
   "outputs": [
    {
     "name": "stdout",
     "output_type": "stream",
     "text": [
      "[1 2 3 4]\n"
     ]
    }
   ],
   "source": [
    "a = np.array([1, 2])\n",
    "b = np.array([3, 4])\n",
    "print(np.concatenate((a, b)))"
   ]
  },
  {
   "cell_type": "markdown",
   "id": "987a619e-a2f9-49cd-bce1-e9c37995f7a3",
   "metadata": {},
   "source": [
    "### np.split(): Splits an array into multiple parts."
   ]
  },
  {
   "cell_type": "code",
   "execution_count": 34,
   "id": "8a10b1f0-8904-4a10-be6d-c63843524da4",
   "metadata": {},
   "outputs": [
    {
     "name": "stdout",
     "output_type": "stream",
     "text": [
      "[array([1, 2]), array([3, 4]), array([5, 6])]\n"
     ]
    }
   ],
   "source": [
    "arr = np.array([1, 2, 3, 4, 5, 6])\n",
    "print(np.split(arr, 3))"
   ]
  },
  {
   "cell_type": "code",
   "execution_count": null,
   "id": "d6982318-42e0-43c7-b840-c103c8d9eddf",
   "metadata": {},
   "outputs": [],
   "source": []
  }
 ],
 "metadata": {
  "kernelspec": {
   "display_name": "Python 3 (ipykernel)",
   "language": "python",
   "name": "python3"
  },
  "language_info": {
   "codemirror_mode": {
    "name": "ipython",
    "version": 3
   },
   "file_extension": ".py",
   "mimetype": "text/x-python",
   "name": "python",
   "nbconvert_exporter": "python",
   "pygments_lexer": "ipython3",
   "version": "3.11.7"
  }
 },
 "nbformat": 4,
 "nbformat_minor": 5
}
