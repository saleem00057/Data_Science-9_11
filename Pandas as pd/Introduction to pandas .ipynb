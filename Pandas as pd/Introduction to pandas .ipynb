{
 "cells": [
  {
   "cell_type": "markdown",
   "id": "305ea838-a150-493d-97d1-2197701c9aba",
   "metadata": {},
   "source": [
    "# Introduction to Pandas  "
   ]
  },
  {
   "cell_type": "markdown",
   "id": "31c9f9ad-4c50-4a63-a846-6088a78e11b6",
   "metadata": {},
   "source": [
    "Pandas is a powerful Python library for working with data.\n",
    "It makes it easier to organize, clean, analyze, and visualize data.\n",
    "\n",
    "- Lists, dictionaries, and NumPy arrays.\n",
    "- CSV, Excel, and JSON files."
   ]
  },
  {
   "cell_type": "markdown",
   "id": "e8104783-2921-4a85-b91b-beb7207c6520",
   "metadata": {},
   "source": [
    "### What Can Pandas Do?\n",
    "- Store Data: Hold data in tables (like Excel sheets) called DataFrames.\n",
    "- Clean Data: Remove missing values, rename columns, etc.\n",
    "- Analyze Data: Perform calculations, find trends, and more.\n",
    "- Visualize Data: Integrate with libraries like Matplotlib to create charts.\n",
    "\n",
    "Pandas has two main data structures:\n",
    "- Series: A one-dimensional array (like a list with labels).\n",
    "Example: A column in Excel.\n",
    "- DataFrame: A two-dimensional table (like a whole Excel sheet).\n",
    "Example: A table with rows and columns."
   ]
  },
  {
   "cell_type": "code",
   "execution_count": 1,
   "id": "aef3bc26-c07c-4ca0-bb75-c1e482d3da9c",
   "metadata": {},
   "outputs": [
    {
     "name": "stdout",
     "output_type": "stream",
     "text": [
      "Requirement already satisfied: pandas in e:\\anaconda\\lib\\site-packages (2.1.4)\n",
      "Requirement already satisfied: numpy<2,>=1.23.2 in e:\\anaconda\\lib\\site-packages (from pandas) (1.26.4)\n",
      "Requirement already satisfied: python-dateutil>=2.8.2 in e:\\anaconda\\lib\\site-packages (from pandas) (2.8.2)\n",
      "Requirement already satisfied: pytz>=2020.1 in e:\\anaconda\\lib\\site-packages (from pandas) (2023.3.post1)\n",
      "Requirement already satisfied: tzdata>=2022.1 in e:\\anaconda\\lib\\site-packages (from pandas) (2023.3)\n",
      "Requirement already satisfied: six>=1.5 in e:\\anaconda\\lib\\site-packages (from python-dateutil>=2.8.2->pandas) (1.16.0)\n",
      "Note: you may need to restart the kernel to use updated packages.\n"
     ]
    }
   ],
   "source": [
    "pip install pandas"
   ]
  },
  {
   "cell_type": "markdown",
   "id": "0c8610be-524a-4e97-9cde-940dfa447faf",
   "metadata": {},
   "source": [
    "# Creation of DataFrames in Pandas"
   ]
  },
  {
   "cell_type": "markdown",
   "id": "3f0fb996-3177-466a-90c1-a4a05d835bcb",
   "metadata": {},
   "source": [
    "### Creating a series"
   ]
  },
  {
   "cell_type": "code",
   "execution_count": 2,
   "id": "e0382208-d0c8-484f-878d-22f3bffbefba",
   "metadata": {},
   "outputs": [
    {
     "name": "stdout",
     "output_type": "stream",
     "text": [
      "0    10\n",
      "1    20\n",
      "2    30\n",
      "3    40\n",
      "dtype: int64\n"
     ]
    }
   ],
   "source": [
    "import pandas as pd\n",
    "\n",
    "# Creating a Series\n",
    "data = [10, 20, 30, 40]\n",
    "series = pd.Series(data)\n",
    "print(series)"
   ]
  },
  {
   "cell_type": "markdown",
   "id": "ac06df35-8373-416b-93e8-b9ccfc79ea21",
   "metadata": {},
   "source": [
    "### Creating a dataframe:"
   ]
  },
  {
   "cell_type": "code",
   "execution_count": 3,
   "id": "03af4547-4ada-4384-a346-141f7bc9e83d",
   "metadata": {},
   "outputs": [
    {
     "name": "stdout",
     "output_type": "stream",
     "text": [
      "     Name  Age  Salery\n",
      "0   Hamza   25   25000\n",
      "1   Majid   30   30000\n",
      "2    Sami   35   45000\n",
      "3     Ali   40   55000\n",
      "4   Zafar   45   60000\n",
      "5  Saleem   30   75000\n"
     ]
    }
   ],
   "source": [
    "# Creating a DataFrame\n",
    "data = {\n",
    "    \"Name\": [\"Hamza\", \"Majid\", \"Sami\",\"Ali\",\"Zafar\",\"Saleem\"],\n",
    "    \"Age\": [25, 30, 35, 40, 45, 30],\n",
    "    \"Salery\":[25000,30000,45000,55000,60000,75000]\n",
    "}\n",
    "df = pd.DataFrame(data)\n",
    "print(df)\n"
   ]
  },
  {
   "cell_type": "markdown",
   "id": "e006c99b-2bfa-4545-97f2-27f20dd3aed0",
   "metadata": {},
   "source": [
    "# exploring the DataFrame"
   ]
  },
  {
   "cell_type": "code",
   "execution_count": 4,
   "id": "976e0867-d696-4c54-9f49-8f3c63afde46",
   "metadata": {},
   "outputs": [
    {
     "name": "stdout",
     "output_type": "stream",
     "text": [
      "         day  temperature  windspeed  event\n",
      "0   1/1/2017           32        6.0   Rain\n",
      "1   1/2/2017           35        7.0  Sunny\n",
      "2   1/3/2017           28        2.0   Snow\n",
      "3   1/4/2017           27        NaN   Snow\n",
      "4   1/5/2017           29        NaN    NaN\n",
      "5   1/6/2017           40        NaN    NaN\n",
      "6   1/7/2017           51        NaN   Rain\n",
      "7   1/8/2017           23        NaN    NaN\n",
      "8   1/9/2017           43        NaN    NaN\n",
      "9  1/10/2017           12        NaN  Sunny\n"
     ]
    }
   ],
   "source": [
    "import pandas as pd\n",
    "\n",
    "# Load the CSV file into a DataFrame\n",
    "df = pd.read_csv(\"weather_data.csv\")  # Replace 'filename.csv' with the actual file name\n",
    "print(df)"
   ]
  },
  {
   "cell_type": "code",
   "execution_count": 5,
   "id": "8cf53135-1eee-4cdf-93ba-0c8223b8aec7",
   "metadata": {},
   "outputs": [
    {
     "name": "stdout",
     "output_type": "stream",
     "text": [
      "         day  temperature  windspeed  event\n",
      "0   1/1/2017           32        6.0   Rain\n",
      "1   1/2/2017           35        7.0  Sunny\n",
      "2   1/3/2017           28        2.0   Snow\n",
      "3   1/4/2017           27        NaN   Snow\n",
      "4   1/5/2017           29        NaN    NaN\n",
      "5   1/6/2017           40        NaN    NaN\n",
      "6   1/7/2017           51        NaN   Rain\n",
      "7   1/8/2017           23        NaN    NaN\n",
      "8   1/9/2017           43        NaN    NaN\n",
      "9  1/10/2017           12        NaN  Sunny\n"
     ]
    }
   ],
   "source": [
    "print(df.head(10))"
   ]
  },
  {
   "cell_type": "code",
   "execution_count": 6,
   "id": "672fe41d-9dae-4a18-a8b0-e9e02064a66c",
   "metadata": {},
   "outputs": [
    {
     "name": "stdout",
     "output_type": "stream",
     "text": [
      "         day  temperature  windspeed  event\n",
      "0   1/1/2017           32        6.0   Rain\n",
      "1   1/2/2017           35        7.0  Sunny\n",
      "2   1/3/2017           28        2.0   Snow\n",
      "3   1/4/2017           27        NaN   Snow\n",
      "4   1/5/2017           29        NaN    NaN\n",
      "5   1/6/2017           40        NaN    NaN\n",
      "6   1/7/2017           51        NaN   Rain\n",
      "7   1/8/2017           23        NaN    NaN\n",
      "8   1/9/2017           43        NaN    NaN\n",
      "9  1/10/2017           12        NaN  Sunny\n"
     ]
    }
   ],
   "source": [
    "print(df.tail(10))"
   ]
  },
  {
   "cell_type": "markdown",
   "id": "5f3e1ddd-21af-4907-9dec-27912e6c4d2e",
   "metadata": {},
   "source": [
    "# Understand the Dataset"
   ]
  },
  {
   "cell_type": "markdown",
   "id": "b4e34e61-2450-489d-8414-baf241d2fadf",
   "metadata": {},
   "source": [
    "### Check the shape of the data"
   ]
  },
  {
   "cell_type": "code",
   "execution_count": 7,
   "id": "2012a330-fb89-4389-82ea-617cda90e285",
   "metadata": {},
   "outputs": [
    {
     "name": "stdout",
     "output_type": "stream",
     "text": [
      "(10, 4)\n"
     ]
    }
   ],
   "source": [
    "print(df.shape)"
   ]
  },
  {
   "cell_type": "markdown",
   "id": "96efdc30-e02a-485d-8461-79bc1dae772b",
   "metadata": {},
   "source": [
    "### Get column names:"
   ]
  },
  {
   "cell_type": "code",
   "execution_count": 8,
   "id": "7d3d8e27-a141-4e2a-a9f0-b724f98e1671",
   "metadata": {},
   "outputs": [
    {
     "name": "stdout",
     "output_type": "stream",
     "text": [
      "Index(['day', 'temperature', 'windspeed', 'event'], dtype='object')\n"
     ]
    }
   ],
   "source": [
    "print(df.columns)\n"
   ]
  },
  {
   "cell_type": "markdown",
   "id": "51261d90-f720-4218-844e-5ea8d4384bd6",
   "metadata": {},
   "source": [
    "### View data types of each column:"
   ]
  },
  {
   "cell_type": "code",
   "execution_count": 9,
   "id": "a0d13e01-31b0-452c-bd70-c7d05b87fd74",
   "metadata": {},
   "outputs": [
    {
     "name": "stdout",
     "output_type": "stream",
     "text": [
      "<class 'pandas.core.frame.DataFrame'>\n",
      "RangeIndex: 10 entries, 0 to 9\n",
      "Data columns (total 4 columns):\n",
      " #   Column       Non-Null Count  Dtype  \n",
      "---  ------       --------------  -----  \n",
      " 0   day          10 non-null     object \n",
      " 1   temperature  10 non-null     int64  \n",
      " 2   windspeed    3 non-null      float64\n",
      " 3   event        6 non-null      object \n",
      "dtypes: float64(1), int64(1), object(2)\n",
      "memory usage: 452.0+ bytes\n",
      "None\n"
     ]
    }
   ],
   "source": [
    "print(df.info())"
   ]
  },
  {
   "cell_type": "markdown",
   "id": "2eb68a18-7347-42f7-949c-d32483425b35",
   "metadata": {},
   "source": [
    "### Summary statistics for numerical columns:"
   ]
  },
  {
   "cell_type": "code",
   "execution_count": 10,
   "id": "f7afa917-a6b4-4b9a-89b8-52c33a222038",
   "metadata": {},
   "outputs": [
    {
     "name": "stdout",
     "output_type": "stream",
     "text": [
      "       temperature  windspeed\n",
      "count    10.000000   3.000000\n",
      "mean     32.000000   5.000000\n",
      "std      10.984838   2.645751\n",
      "min      12.000000   2.000000\n",
      "25%      27.250000   4.000000\n",
      "50%      30.500000   6.000000\n",
      "75%      38.750000   6.500000\n",
      "max      51.000000   7.000000\n"
     ]
    }
   ],
   "source": [
    "print(df.describe())"
   ]
  },
  {
   "cell_type": "markdown",
   "id": "04acc6d4-4e30-4ffd-84e8-10779e517189",
   "metadata": {},
   "source": [
    "# Handling duplicate values"
   ]
  },
  {
   "cell_type": "code",
   "execution_count": 11,
   "id": "01fa6433-dcfa-43ec-b319-03648d7b117d",
   "metadata": {},
   "outputs": [
    {
     "name": "stdout",
     "output_type": "stream",
     "text": [
      "         day  temperature  windspeed  event\n",
      "0   1/1/2017           32        6.0   Rain\n",
      "1   1/2/2017           35        7.0  Sunny\n",
      "2   1/3/2017           28        2.0   Snow\n",
      "3   1/4/2017           27        NaN   Snow\n",
      "4   1/5/2017           29        NaN    NaN\n",
      "5   1/6/2017           40        NaN    NaN\n",
      "6   1/7/2017           51        NaN   Rain\n",
      "7   1/8/2017           23        NaN    NaN\n",
      "8   1/9/2017           43        NaN    NaN\n",
      "9  1/10/2017           12        NaN  Sunny\n"
     ]
    }
   ],
   "source": [
    "import pandas as pd\n",
    "df = pd.read_csv(\"weather_data.csv\")\n",
    "print(df)"
   ]
  },
  {
   "cell_type": "code",
   "execution_count": 12,
   "id": "25374795-2606-46a5-b315-f775401e6db5",
   "metadata": {},
   "outputs": [
    {
     "name": "stdout",
     "output_type": "stream",
     "text": [
      "0    False\n",
      "1    False\n",
      "2    False\n",
      "3     True\n",
      "4    False\n",
      "5     True\n",
      "6     True\n",
      "7     True\n",
      "8     True\n",
      "9     True\n",
      "Name: event, dtype: bool\n"
     ]
    }
   ],
   "source": [
    "print(df[\"event\"].duplicated())"
   ]
  },
  {
   "cell_type": "code",
   "execution_count": 13,
   "id": "918d95f0-616b-45d9-838e-c403366c1366",
   "metadata": {},
   "outputs": [
    {
     "name": "stdout",
     "output_type": "stream",
     "text": [
      "6\n"
     ]
    }
   ],
   "source": [
    "print(df[\"event\"].duplicated().sum())"
   ]
  },
  {
   "cell_type": "code",
   "execution_count": 14,
   "id": "2303ca45-c85e-46dc-aa3f-8b07195cf4d1",
   "metadata": {},
   "outputs": [
    {
     "name": "stdout",
     "output_type": "stream",
     "text": [
      "        day  temperature  windspeed  event\n",
      "0  1/1/2017           32        6.0   Rain\n",
      "1  1/2/2017           35        7.0  Sunny\n",
      "2  1/3/2017           28        2.0   Snow\n",
      "4  1/5/2017           29        NaN    NaN\n"
     ]
    }
   ],
   "source": [
    "print(df.drop_duplicates(\"event\"))"
   ]
  },
  {
   "cell_type": "markdown",
   "id": "05c17be1-fab3-4f7a-8e26-24c8fd132bb8",
   "metadata": {},
   "source": [
    "## Handling missing Values\n",
    "NaN Values"
   ]
  },
  {
   "cell_type": "code",
   "execution_count": 15,
   "id": "cb2514f1-2ac9-4544-ab7b-7b4f54651e9b",
   "metadata": {},
   "outputs": [
    {
     "name": "stdout",
     "output_type": "stream",
     "text": [
      "     day  temperature  windspeed  event\n",
      "0  False        False      False  False\n",
      "1  False        False      False  False\n",
      "2  False        False      False  False\n",
      "3  False        False       True  False\n",
      "4  False        False       True   True\n",
      "5  False        False       True   True\n",
      "6  False        False       True  False\n",
      "7  False        False       True   True\n",
      "8  False        False       True   True\n",
      "9  False        False       True  False\n"
     ]
    }
   ],
   "source": [
    "print(df.isnull())"
   ]
  },
  {
   "cell_type": "code",
   "execution_count": 16,
   "id": "8fb8d67a-7c90-45ea-a761-4d2110731e73",
   "metadata": {},
   "outputs": [
    {
     "name": "stdout",
     "output_type": "stream",
     "text": [
      "day            0\n",
      "temperature    0\n",
      "windspeed      7\n",
      "event          4\n",
      "dtype: int64\n"
     ]
    }
   ],
   "source": [
    "print(df.isnull().sum())"
   ]
  },
  {
   "cell_type": "code",
   "execution_count": 17,
   "id": "6729e25d-ddd9-42cd-82b9-690e6d3acf91",
   "metadata": {},
   "outputs": [
    {
     "name": "stdout",
     "output_type": "stream",
     "text": [
      "        day  temperature  windspeed  event\n",
      "0  1/1/2017           32        6.0   Rain\n",
      "1  1/2/2017           35        7.0  Sunny\n",
      "2  1/3/2017           28        2.0   Snow\n"
     ]
    }
   ],
   "source": [
    "print(df.dropna())"
   ]
  },
  {
   "cell_type": "markdown",
   "id": "f2d1b11f-d329-4eab-bf14-dbb6c761f076",
   "metadata": {},
   "source": [
    "# column Transformation\n",
    "Column transformation refers to modifying, creating, or deleting columns in a Pandas DataFrame."
   ]
  },
  {
   "cell_type": "code",
   "execution_count": 18,
   "id": "5c1926aa-b243-4109-a573-939983e9a021",
   "metadata": {},
   "outputs": [
    {
     "name": "stdout",
     "output_type": "stream",
     "text": [
      "     Name  Age  Salary City\n",
      "0  Saleem   25   50000  BWP\n",
      "1    Umer   30   60000  LHR\n",
      "2     Ali   35   70000  FSD\n",
      "3   Hamza   40   80000  ISB\n"
     ]
    }
   ],
   "source": [
    "import pandas as pd\n",
    "\n",
    "# Sample data\n",
    "data = {\n",
    "    \"Name\": [\"Saleem\", \"Umer\", \"Ali\", \"Hamza\"],\n",
    "    \"Age\": [25, 30, 35, 40],\n",
    "    \"Salary\": [50000, 60000, 70000, 80000],\n",
    "    \"City\": [\"BWP\", \"LHR\", \"FSD\", \"ISB\"]\n",
    "}\n",
    "\n",
    "df = pd.DataFrame(data)\n",
    "print(df)\n"
   ]
  },
  {
   "cell_type": "markdown",
   "id": "106db570-da54-4370-9b8c-9c5af8d8a910",
   "metadata": {},
   "source": [
    "### Add a New Column"
   ]
  },
  {
   "cell_type": "code",
   "execution_count": 19,
   "id": "63d9813b-83a2-43d8-8584-35131b541942",
   "metadata": {},
   "outputs": [
    {
     "name": "stdout",
     "output_type": "stream",
     "text": [
      "     Name  Age  Salary City   Bonus\n",
      "0  Saleem   25   50000  BWP  5000.0\n",
      "1    Umer   30   60000  LHR  6000.0\n",
      "2     Ali   35   70000  FSD  7000.0\n",
      "3   Hamza   40   80000  ISB  8000.0\n"
     ]
    }
   ],
   "source": [
    "df[\"Bonus\"] = df[\"Salary\"] * 0.1 #adding 10% bonus in \n",
    "print(df)\n"
   ]
  },
  {
   "cell_type": "markdown",
   "id": "1c7fff15-98bf-4690-a74b-17c24a4f2ac2",
   "metadata": {},
   "source": [
    "### Modify an Existing Column"
   ]
  },
  {
   "cell_type": "code",
   "execution_count": 20,
   "id": "d83625d4-a232-4fe6-be40-342718e152c9",
   "metadata": {},
   "outputs": [
    {
     "name": "stdout",
     "output_type": "stream",
     "text": [
      "     Name  Age   Salary City   Bonus\n",
      "0  Saleem   25  52500.0  BWP  5000.0\n",
      "1    Umer   30  63000.0  LHR  6000.0\n",
      "2     Ali   35  73500.0  FSD  7000.0\n",
      "3   Hamza   40  84000.0  ISB  8000.0\n"
     ]
    }
   ],
   "source": [
    "df[\"Salary\"] = df[\"Salary\"] * 1.05 #Increase each salary by 5%:\n",
    "print(df)\n"
   ]
  },
  {
   "cell_type": "markdown",
   "id": "50ca7953-a785-4ee0-b984-fee78e8401cd",
   "metadata": {},
   "source": [
    "### Create a Column Based on a Condition"
   ]
  },
  {
   "cell_type": "code",
   "execution_count": 21,
   "id": "0f879b34-fad0-4537-b4be-bfd78dc1fef0",
   "metadata": {},
   "outputs": [
    {
     "name": "stdout",
     "output_type": "stream",
     "text": [
      "     Name  Age   Salary City   Bonus AgeCategory\n",
      "0  Saleem   25  52500.0  BWP  5000.0       Young\n",
      "1    Umer   30  63000.0  LHR  6000.0       Young\n",
      "2     Ali   35  73500.0  FSD  7000.0         Old\n",
      "3   Hamza   40  84000.0  ISB  8000.0         Old\n"
     ]
    }
   ],
   "source": [
    "df[\"AgeCategory\"] = df[\"Age\"].apply(lambda x: \"Young\" if x < 35 else \"Old\") #Categorize people as \"Young\" or \"Old\" based on age:\n",
    "print(df)\n"
   ]
  },
  {
   "cell_type": "markdown",
   "id": "43663aac-5df2-4ad6-9314-d6adc102ec19",
   "metadata": {},
   "source": [
    "### Rename a Column"
   ]
  },
  {
   "cell_type": "code",
   "execution_count": 22,
   "id": "da984e3e-1c1b-42fd-8e66-92e04daa2eaa",
   "metadata": {},
   "outputs": [
    {
     "name": "stdout",
     "output_type": "stream",
     "text": [
      "     Name  Age  MonthlySalary City   Bonus AgeCategory\n",
      "0  Saleem   25        52500.0  BWP  5000.0       Young\n",
      "1    Umer   30        63000.0  LHR  6000.0       Young\n",
      "2     Ali   35        73500.0  FSD  7000.0         Old\n",
      "3   Hamza   40        84000.0  ISB  8000.0         Old\n"
     ]
    }
   ],
   "source": [
    "df.rename(columns={\"Salary\": \"MonthlySalary\"}, inplace=True) #Rename the column \"Salary\" to \"MonthlySalary\"\n",
    "print(df)"
   ]
  },
  {
   "cell_type": "markdown",
   "id": "a6224d39-c284-4d73-a213-9780e208fda7",
   "metadata": {},
   "source": [
    "### Drop a Column"
   ]
  },
  {
   "cell_type": "code",
   "execution_count": 23,
   "id": "3d4eca9d-6887-48a1-9a8a-632c2ba53d40",
   "metadata": {},
   "outputs": [
    {
     "name": "stdout",
     "output_type": "stream",
     "text": [
      "     Name  Age  MonthlySalary City AgeCategory\n",
      "0  Saleem   25        52500.0  BWP       Young\n",
      "1    Umer   30        63000.0  LHR       Young\n",
      "2     Ali   35        73500.0  FSD         Old\n",
      "3   Hamza   40        84000.0  ISB         Old\n"
     ]
    }
   ],
   "source": [
    "df.drop(columns=[\"Bonus\"], inplace=True) #Remove the \"Bonus\" column:\n",
    "print(df)"
   ]
  },
  {
   "cell_type": "markdown",
   "id": "eb500b0f-0c49-4b71-9473-d42d135cafb3",
   "metadata": {},
   "source": [
    "### Combine Two Columns"
   ]
  },
  {
   "cell_type": "code",
   "execution_count": 24,
   "id": "69c0a7e5-731c-4a81-93f1-6ab8f0990ff3",
   "metadata": {},
   "outputs": [
    {
     "name": "stdout",
     "output_type": "stream",
     "text": [
      "     Name  Age  MonthlySalary City AgeCategory      NameCity\n",
      "0  Saleem   25        52500.0  BWP       Young  Saleem - BWP\n",
      "1    Umer   30        63000.0  LHR       Young    Umer - LHR\n",
      "2     Ali   35        73500.0  FSD         Old     Ali - FSD\n",
      "3   Hamza   40        84000.0  ISB         Old   Hamza - ISB\n"
     ]
    }
   ],
   "source": [
    "df[\"NameCity\"] = df[\"Name\"] + \" - \" + df[\"City\"] # Combine \"Name\" and \"City\" into a new column:\n",
    "print(df)"
   ]
  },
  {
   "cell_type": "markdown",
   "id": "7e9d7c44-d262-43f6-818f-f7f69c9538ee",
   "metadata": {},
   "source": [
    "### Save the Updated Data"
   ]
  },
  {
   "cell_type": "code",
   "execution_count": 25,
   "id": "5aaf7ed8-dfa7-40e9-ad1d-015e117fad67",
   "metadata": {},
   "outputs": [],
   "source": [
    "df.to_csv(\"transformed_data.csv\", index=False) #Save the transformed DataFrame to a CSV file:"
   ]
  },
  {
   "cell_type": "markdown",
   "id": "3ea79113-dc2c-4a0d-a6eb-9f4ae39f3e9f",
   "metadata": {},
   "source": [
    "# Groupby in pandas"
   ]
  },
  {
   "cell_type": "markdown",
   "id": "75677c20-043e-4725-9a7f-c0b0ddd918c8",
   "metadata": {},
   "source": [
    "\n",
    "The groupby function in Pandas is used to group rows in a DataFrame based on the values of one or more columns. After grouping, you can perform aggregate operations (like sum, mean, count, etc.) on each group.\n",
    "\n",
    "How groupby Works (Step-by-Step)\n",
    "- Split: Divide the data into groups based on one or more columns.\n",
    "- Apply: Perform an operation on each group (e.g., summing values).\n",
    "- Combine: Combine the results into a new DataFrame or Series."
   ]
  },
  {
   "cell_type": "code",
   "execution_count": 26,
   "id": "a57749ae-f9ec-48aa-b579-dc0fd8c5aaf3",
   "metadata": {},
   "outputs": [
    {
     "name": "stdout",
     "output_type": "stream",
     "text": [
      "    City Product  Sales\n",
      "0  CityA       A    100\n",
      "1  CityB       A    200\n",
      "2  CityA       B    150\n",
      "3  CityB       B    300\n",
      "4  CityC       A    400\n"
     ]
    }
   ],
   "source": [
    "import pandas as pd\n",
    "\n",
    "# Create a sample DataFrame\n",
    "data = {\n",
    "    \"City\": [\"CityA\", \"CityB\", \"CityA\", \"CityB\", \"CityC\"],\n",
    "    \"Product\": [\"A\", \"A\", \"B\", \"B\", \"A\"],\n",
    "    \"Sales\": [100, 200, 150, 300, 400]\n",
    "}\n",
    "\n",
    "df = pd.DataFrame(data)\n",
    "print(df)\n"
   ]
  },
  {
   "cell_type": "markdown",
   "id": "ebc8da78-10ec-4e50-b416-005bc2e2064b",
   "metadata": {},
   "source": [
    "### Total Sales by City\n",
    "Group the data by the \"City\" column and calculate the total sales:"
   ]
  },
  {
   "cell_type": "code",
   "execution_count": 27,
   "id": "614d777b-3cc4-412a-b0a1-a078fd327c39",
   "metadata": {},
   "outputs": [
    {
     "name": "stdout",
     "output_type": "stream",
     "text": [
      "City\n",
      "CityA    250\n",
      "CityB    500\n",
      "CityC    400\n",
      "Name: Sales, dtype: int64\n"
     ]
    }
   ],
   "source": [
    "grouped = df.groupby(\"City\")[\"Sales\"].sum()\n",
    "print(grouped)"
   ]
  },
  {
   "cell_type": "markdown",
   "id": "259154ff-bf03-4cb1-9a73-4944fe89f2b4",
   "metadata": {},
   "source": [
    "### Average Sales by Product\n",
    "Group by \"Product\" and calculate the average sales:"
   ]
  },
  {
   "cell_type": "code",
   "execution_count": 28,
   "id": "34b91622-348a-4cea-8966-9dddea454d76",
   "metadata": {},
   "outputs": [
    {
     "name": "stdout",
     "output_type": "stream",
     "text": [
      "Product\n",
      "A    233.333333\n",
      "B    225.000000\n",
      "Name: Sales, dtype: float64\n"
     ]
    }
   ],
   "source": [
    "avg_sales = df.groupby(\"Product\")[\"Sales\"].mean()\n",
    "print(avg_sales)\n"
   ]
  },
  {
   "cell_type": "markdown",
   "id": "9e28f72b-8296-4dcb-99be-5a6bede75f0e",
   "metadata": {},
   "source": [
    "### Group by Multiple Columns\n",
    "Find the total sales for each \"City\" and \"Product\" combination:"
   ]
  },
  {
   "cell_type": "code",
   "execution_count": 29,
   "id": "f36eed87-d575-4393-8080-aa355e41678e",
   "metadata": {},
   "outputs": [
    {
     "name": "stdout",
     "output_type": "stream",
     "text": [
      "City   Product\n",
      "CityA  A          100\n",
      "       B          150\n",
      "CityB  A          200\n",
      "       B          300\n",
      "CityC  A          400\n",
      "Name: Sales, dtype: int64\n"
     ]
    }
   ],
   "source": [
    "grouped_multi = df.groupby([\"City\", \"Product\"])[\"Sales\"].sum()\n",
    "print(grouped_multi)"
   ]
  },
  {
   "cell_type": "markdown",
   "id": "7bfd269d-98fc-47c6-a391-45a3fdcb96f7",
   "metadata": {},
   "source": [
    "### Count the Number of Entries in Each Group\n",
    "Count how many times each product was sold in each city:"
   ]
  },
  {
   "cell_type": "code",
   "execution_count": 30,
   "id": "a5eb77fe-7e25-4961-8814-283981948b8f",
   "metadata": {},
   "outputs": [
    {
     "name": "stdout",
     "output_type": "stream",
     "text": [
      "City   Product\n",
      "CityA  A          1\n",
      "       B          1\n",
      "CityB  A          1\n",
      "       B          1\n",
      "CityC  A          1\n",
      "dtype: int64\n"
     ]
    }
   ],
   "source": [
    "count_sales = df.groupby([\"City\", \"Product\"]).size()\n",
    "print(count_sales)\n"
   ]
  },
  {
   "cell_type": "markdown",
   "id": "72937e8e-b15e-4054-b0c6-83d77f167918",
   "metadata": {},
   "source": [
    "### Apply Multiple Aggregations\n",
    "You can perform multiple operations (e.g., sum and mean) at the same time:"
   ]
  },
  {
   "cell_type": "code",
   "execution_count": 31,
   "id": "dfa0b87c-1c08-4627-84e0-f79d9249cc51",
   "metadata": {},
   "outputs": [
    {
     "name": "stdout",
     "output_type": "stream",
     "text": [
      "       sum   mean  max\n",
      "City                  \n",
      "CityA  250  125.0  150\n",
      "CityB  500  250.0  300\n",
      "CityC  400  400.0  400\n"
     ]
    }
   ],
   "source": [
    "agg_sales = df.groupby(\"City\")[\"Sales\"].agg([\"sum\", \"mean\", \"max\"])\n",
    "print(agg_sales)\n"
   ]
  },
  {
   "cell_type": "markdown",
   "id": "83758cd2-da55-4f5e-9a58-19adaad91463",
   "metadata": {},
   "source": [
    "# Merge,Join and concatenate in Pandas"
   ]
  },
  {
   "cell_type": "markdown",
   "id": "5bf984ab-cedb-453d-a457-6539de706dff",
   "metadata": {},
   "source": [
    "### .Merge\n",
    "The merge function is used to combine two DataFrames based on common columns or indices. "
   ]
  },
  {
   "cell_type": "code",
   "execution_count": 32,
   "id": "5d8ad5f4-7d4c-46e7-a530-ca392263c6c6",
   "metadata": {},
   "outputs": [
    {
     "name": "stdout",
     "output_type": "stream",
     "text": [
      "   ID     Name  Score\n",
      "0   2      Bob     85\n",
      "1   3  Charlie     90\n"
     ]
    }
   ],
   "source": [
    "import pandas as pd\n",
    "\n",
    "# Create two DataFrames\n",
    "df1 = pd.DataFrame({\n",
    "    \"ID\": [1, 2, 3],\n",
    "    \"Name\": [\"Alice\", \"Bob\", \"Charlie\"]\n",
    "})\n",
    "\n",
    "df2 = pd.DataFrame({\n",
    "    \"ID\": [2, 3, 4],\n",
    "    \"Score\": [85, 90, 95]\n",
    "})\n",
    "\n",
    "# Merge on \"ID\"\n",
    "merged_df = pd.merge(df1, df2, on=\"ID\")\n",
    "print(merged_df)\n"
   ]
  },
  {
   "cell_type": "markdown",
   "id": "544d135c-3015-471a-bf80-1388d78f2e40",
   "metadata": {},
   "source": [
    "### Join\n",
    "The join function is used to combine DataFrames based on their indices."
   ]
  },
  {
   "cell_type": "code",
   "execution_count": 33,
   "id": "c930f5d1-6c2a-44fe-8466-9c5b9b0a7882",
   "metadata": {},
   "outputs": [
    {
     "name": "stdout",
     "output_type": "stream",
     "text": [
      "      Name  Age  Score\n",
      "2      Bob   30     85\n",
      "3  Charlie   35     90\n"
     ]
    }
   ],
   "source": [
    "# Create two DataFrames with indices\n",
    "df1 = pd.DataFrame({\n",
    "    \"Name\": [\"Alice\", \"Bob\", \"Charlie\"],\n",
    "    \"Age\": [25, 30, 35]\n",
    "}, index=[1, 2, 3])\n",
    "\n",
    "df2 = pd.DataFrame({\n",
    "    \"Score\": [85, 90, 95]\n",
    "}, index=[2, 3, 4])\n",
    "\n",
    "# Join on index\n",
    "joined_df = df1.join(df2, how=\"inner\")\n",
    "print(joined_df)\n"
   ]
  },
  {
   "cell_type": "markdown",
   "id": "adc12832-1177-48ed-a963-de414062b8eb",
   "metadata": {},
   "source": [
    "### Concatenate\n",
    "The concat function stacks DataFrames either vertically (default) or horizontally."
   ]
  },
  {
   "cell_type": "code",
   "execution_count": 34,
   "id": "430c975e-c629-41c2-b1ee-4e337f042b6d",
   "metadata": {},
   "outputs": [
    {
     "name": "stdout",
     "output_type": "stream",
     "text": [
      "   ID     Name\n",
      "0   1    Alice\n",
      "1   2      Bob\n",
      "2   3  Charlie\n",
      "0   4    David\n",
      "1   5      Eve\n",
      "2   6    Frank\n"
     ]
    }
   ],
   "source": [
    "df1 = pd.DataFrame({\n",
    "    \"ID\": [1, 2, 3],\n",
    "    \"Name\": [\"Alice\", \"Bob\", \"Charlie\"]\n",
    "})\n",
    "\n",
    "df2 = pd.DataFrame({\n",
    "    \"ID\": [4, 5, 6],\n",
    "    \"Name\": [\"David\", \"Eve\", \"Frank\"]\n",
    "})\n",
    "\n",
    "# Concatenate vertically\n",
    "vertical_concat = pd.concat([df1, df2])\n",
    "print(vertical_concat)\n"
   ]
  },
  {
   "cell_type": "code",
   "execution_count": 35,
   "id": "a9dfb2b7-a802-4fbc-a4ee-68fa84e7df51",
   "metadata": {},
   "outputs": [
    {
     "name": "stdout",
     "output_type": "stream",
     "text": [
      "   ID     Name  Score\n",
      "0   1    Alice     85\n",
      "1   2      Bob     90\n",
      "2   3  Charlie     95\n"
     ]
    }
   ],
   "source": [
    "df1 = pd.DataFrame({\n",
    "    \"ID\": [1, 2, 3],\n",
    "    \"Name\": [\"Alice\", \"Bob\", \"Charlie\"]\n",
    "})\n",
    "\n",
    "df2 = pd.DataFrame({\n",
    "    \"Score\": [85, 90, 95]\n",
    "})\n",
    "\n",
    "# Concatenate horizontally\n",
    "horizontal_concat = pd.concat([df1, df2], axis=1)\n",
    "print(horizontal_concat)\n"
   ]
  },
  {
   "cell_type": "markdown",
   "id": "94b1239a-fbb9-481a-a124-0dbae9040151",
   "metadata": {},
   "source": [
    "## When to Use Each\n",
    "### Use merge:\n",
    "- When you want SQL-style joins.\n",
    "- Combining DataFrames based on column(s).\n",
    "### Use join:\n",
    "- When combining DataFrames by their indices.\n",
    " ### Use concat:\n",
    "- When stacking DataFrames either vertically or horizontally.\n"
   ]
  },
  {
   "cell_type": "code",
   "execution_count": null,
   "id": "73683c8b-f473-492b-81ee-fd5019b106e5",
   "metadata": {},
   "outputs": [],
   "source": []
  }
 ],
 "metadata": {
  "kernelspec": {
   "display_name": "Python 3 (ipykernel)",
   "language": "python",
   "name": "python3"
  },
  "language_info": {
   "codemirror_mode": {
    "name": "ipython",
    "version": 3
   },
   "file_extension": ".py",
   "mimetype": "text/x-python",
   "name": "python",
   "nbconvert_exporter": "python",
   "pygments_lexer": "ipython3",
   "version": "3.11.7"
  }
 },
 "nbformat": 4,
 "nbformat_minor": 5
}
